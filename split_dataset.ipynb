{
 "cells": [
  {
   "cell_type": "code",
   "execution_count": 5,
   "metadata": {},
   "outputs": [
    {
     "name": "stdout",
     "output_type": "stream",
     "text": [
      "['dataset_files/abstractive/country-currency_randomized.json', 'dataset_files/abstractive/sentiment.json', 'dataset_files/abstractive/lowercase_first_letter.json', 'dataset_files/abstractive/antonym_randomized.json', 'dataset_files/abstractive/capitalize_second_letter.json', 'dataset_files/abstractive/product-company.json', 'dataset_files/abstractive/word_length_randomized.json', 'dataset_files/abstractive/english-french_randomized.json', 'dataset_files/abstractive/synonym_randomized.json', 'dataset_files/abstractive/sentiment_randomized.json', 'dataset_files/abstractive/person-sport_randomized.json', 'dataset_files/abstractive/country-capital_randomized.json', 'dataset_files/abstractive/antonym.json', 'dataset_files/abstractive/prev_item.json', 'dataset_files/abstractive/person-occupation.json', 'dataset_files/abstractive/next_capital_letter.json', 'dataset_files/abstractive/singular-plural_randomized.json', 'dataset_files/abstractive/capitalize.json', 'dataset_files/abstractive/national_parks.json', 'dataset_files/abstractive/person-sport.json', 'dataset_files/abstractive/park-country_randomized.json', 'dataset_files/abstractive/english-german.json', 'dataset_files/abstractive/capitalize_first_letter.json', 'dataset_files/abstractive/capitalize_second_letter_randomized.json', 'dataset_files/abstractive/word_length.json', 'dataset_files/abstractive/country-capital.json', 'dataset_files/abstractive/synonym.json', 'dataset_files/abstractive/present-past_randomized.json', 'dataset_files/abstractive/product-company_randomized.json', 'dataset_files/abstractive/next_capital_letter_randomized.json', 'dataset_files/abstractive/capitalize_last_letter.json', 'dataset_files/abstractive/landmark-country_randomized.json', 'dataset_files/abstractive/next_item_randomized.json', 'dataset_files/abstractive/capitalize_last_letter_randomized.json', 'dataset_files/abstractive/park-country.json', 'dataset_files/abstractive/ag_news_randomized.json', 'dataset_files/abstractive/commonsense_qa_randomized.json', 'dataset_files/abstractive/next_item.json', 'dataset_files/abstractive/ag_news.json', 'dataset_files/abstractive/landmark-country.json', 'dataset_files/abstractive/prev_item_randomized.json', 'dataset_files/abstractive/english-spanish_randomized.json', 'dataset_files/abstractive/lowercase_first_letter_randomized.json', 'dataset_files/abstractive/english-french.json', 'dataset_files/abstractive/singular-plural.json', 'dataset_files/abstractive/person-occupation_randomized.json', 'dataset_files/abstractive/lowercase_last_letter.json', 'dataset_files/abstractive/english-spanish.json', 'dataset_files/abstractive/person-instrument.json', 'dataset_files/abstractive/commonsense_qa.json', 'dataset_files/abstractive/national_parks_randomized.json', 'dataset_files/abstractive/english-german_randomized.json', 'dataset_files/abstractive/country-currency.json', 'dataset_files/abstractive/capitalize_randomized.json', 'dataset_files/abstractive/lowercase_last_letter_randomized.json', 'dataset_files/abstractive/capitalize_first_letter_randomized.json', 'dataset_files/abstractive/present-past.json', 'dataset_files/abstractive/person-instrument_randomized.json', 'dataset_files/extractive/alphabetically_first_3.json', 'dataset_files/extractive/conll2003_person_randomized.json', 'dataset_files/extractive/choose_first_of_5_randomized.json', 'dataset_files/extractive/concept_v_object_5_randomized.json', 'dataset_files/extractive/fruit_v_animal_3.json', 'dataset_files/extractive/choose_middle_of_3_randomized.json', 'dataset_files/extractive/animal_v_object_5_randomized.json', 'dataset_files/extractive/alphabetically_last_5_randomized.json', 'dataset_files/extractive/color_v_animal_3.json', 'dataset_files/extractive/alphabetically_first_5_randomized.json', 'dataset_files/extractive/concept_v_object_3_randomized.json', 'dataset_files/extractive/squad_val_randomized.json', 'dataset_files/extractive/choose_first_of_3_randomized.json', 'dataset_files/extractive/alphabetically_first_5.json', 'dataset_files/extractive/alphabetically_first_3_randomized.json', 'dataset_files/extractive/color_v_animal_5.json', 'dataset_files/extractive/alphabetically_last_3_randomized.json', 'dataset_files/extractive/animal_v_object_3_randomized.json', 'dataset_files/extractive/fruit_v_animal_5.json', 'dataset_files/extractive/conll2003_person.json', 'dataset_files/extractive/choose_middle_of_5_randomized.json', 'dataset_files/extractive/color_v_animal_3_randomized.json', 'dataset_files/extractive/choose_last_of_5_randomized.json', 'dataset_files/extractive/concept_v_object_5.json', 'dataset_files/extractive/fruit_v_animal_5_randomized.json', 'dataset_files/extractive/animal_v_object_3.json', 'dataset_files/extractive/adjective_v_verb_3_randomized.json', 'dataset_files/extractive/choose_first_of_3.json', 'dataset_files/extractive/conll2003_organization_randomized.json', 'dataset_files/extractive/adjective_v_verb_3.json', 'dataset_files/extractive/verb_v_adjective_3_randomized.json', 'dataset_files/extractive/verb_v_adjective_5.json', 'dataset_files/extractive/choose_middle_of_5.json', 'dataset_files/extractive/object_v_concept_5.json', 'dataset_files/extractive/conll2003_location_randomized.json', 'dataset_files/extractive/conll2003_organization.json', 'dataset_files/extractive/choose_last_of_3.json', 'dataset_files/extractive/squad_val.json', 'dataset_files/extractive/object_v_concept_5_randomized.json', 'dataset_files/extractive/alphabetically_last_5.json', 'dataset_files/extractive/animal_v_object_5.json', 'dataset_files/extractive/verb_v_adjective_5_randomized.json', 'dataset_files/extractive/fruit_v_animal_3_randomized.json', 'dataset_files/extractive/choose_first_of_5.json', 'dataset_files/extractive/adjective_v_verb_5_randomized.json', 'dataset_files/extractive/adjective_v_verb_5.json', 'dataset_files/extractive/concept_v_object_3.json', 'dataset_files/extractive/choose_last_of_3_randomized.json', 'dataset_files/extractive/color_v_animal_5_randomized.json', 'dataset_files/extractive/conll2003_location.json', 'dataset_files/extractive/object_v_concept_3_randomized.json', 'dataset_files/extractive/choose_last_of_5.json', 'dataset_files/extractive/alphabetically_last_3.json', 'dataset_files/extractive/verb_v_adjective_3.json', 'dataset_files/extractive/choose_middle_of_3.json', 'dataset_files/extractive/object_v_concept_3.json']\n"
     ]
    }
   ],
   "source": [
    "import os\n",
    "import json\n",
    "from random import shuffle\n",
    "\n",
    "\n",
    "dirs = ['dataset_files/abstractive', 'dataset_files/extractive']\n",
    "all_files = []\n",
    "for dir in dirs:\n",
    "    files = os.listdir(dir)\n",
    "    all_files.extend(\n",
    "        [os.path.join(dir, file) for file in files if file.endswith(\".json\") and 'half' not in file]\n",
    "    )\n",
    "\n",
    "print(all_files)"
   ]
  },
  {
   "cell_type": "code",
   "execution_count": 6,
   "metadata": {},
   "outputs": [],
   "source": [
    "for file in all_files:\n",
    "    with open(file, \"r\") as f:\n",
    "        dataset = json.load(f)\n",
    "\n",
    "    half1 = dataset[: len(dataset) // 2]\n",
    "    half2 = dataset[len(dataset) // 2 :]\n",
    "\n",
    "    half1_file = file.replace(\".json\", \"_1sthalf.json\")\n",
    "    half2_file = file.replace(\".json\", \"_2ndhalf.json\")\n",
    "\n",
    "    with open(half1_file, \"w\") as f:\n",
    "        json.dump(half1, f, indent=4)\n",
    "    with open(half2_file, \"w\") as f:\n",
    "        json.dump(half2, f, indent=4)"
   ]
  }
 ],
 "metadata": {
  "kernelspec": {
   "display_name": "base",
   "language": "python",
   "name": "python3"
  },
  "language_info": {
   "codemirror_mode": {
    "name": "ipython",
    "version": 3
   },
   "file_extension": ".py",
   "mimetype": "text/x-python",
   "name": "python",
   "nbconvert_exporter": "python",
   "pygments_lexer": "ipython3",
   "version": "3.11.7"
  }
 },
 "nbformat": 4,
 "nbformat_minor": 2
}
